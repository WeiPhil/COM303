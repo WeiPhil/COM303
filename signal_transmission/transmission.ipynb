{
 "cells": [
  {
   "cell_type": "markdown",
   "metadata": {},
   "source": [
    "\n",
    "# Analog vs Digital Transmission\n",
    "\n",
    "\n",
    "In this notebook we will explore the potential advantages of digital transmission over analog transmission. We will consider the case of transmission over a long (e.g. transoceanic) cable in which several repeaters are used to compensate for the attenuation introduced by the transmission.\n",
    "\n",
    "Remember that if each cable segment introduces an attenuation of $1/G$, we can recover the original amplitude by boosting the signal with a repeater with gain $G$. However, if the signal has accumulated additive noise, the noise will be amplified as well so that, after $N$ repeaters, the noise will have been amplified $N$ times:\n",
    "\n",
    "$$\n",
    "    \\hat{x}_N(t)  = x(t) + NG\\sigma(t)\n",
    "$$\n",
    "\n",
    "If we use a digital signal, on the other hand, we can threshold the signal after each repeater and virtually eliminate the noise at each stage, so that even after several repeaters the trasmission is still noise-free."
   ]
  },
  {
   "cell_type": "markdown",
   "metadata": {},
   "source": [
    "Let's start with the standard initial bookkeeping..."
   ]
  },
  {
   "cell_type": "code",
   "execution_count": null,
   "metadata": {},
   "outputs": [],
   "source": [
    "%matplotlib inline\n",
    "import matplotlib\n",
    "import matplotlib.pyplot as plt\n",
    "import numpy as np\n",
    "import IPython\n",
    "from scipy.io import wavfile"
   ]
  },
  {
   "cell_type": "markdown",
   "metadata": {},
   "source": [
    "Now we can read in an audio file from disk; we can plot it and play it back. The `wavfile.read()` function returns the audio data and the playback rate, which we will need to pass to the playback functions."
   ]
  },
  {
   "cell_type": "code",
   "execution_count": null,
   "metadata": {},
   "outputs": [],
   "source": [
    "rate, s = wavfile.read('speech.wav')\n",
    "plt.plot(s);\n",
    "IPython.display.Audio(s, rate=rate)"
   ]
  },
  {
   "cell_type": "code",
   "execution_count": null,
   "metadata": {},
   "outputs": [],
   "source": [
    "rate\n",
    "w = (200.0 / rate) * 2 * np.pi\n",
    "c = np.cos(w * np.arange(0,len(s)))\n",
    "IPython.display.Audio(np.multiply(s, c) , rate=rate)"
   ]
  },
  {
   "cell_type": "markdown",
   "metadata": {},
   "source": [
    "## The \"Analog\" and \"Digital\" Signals ##\n",
    "\n",
    "We will now create two version of the audio signal, an \"analog\" version and a \"digital\" version. Obviously the analog version is just a simulation, since we're using a digital computer; we will assume that, by using floating point values, we're in fact close enough to infinite precision. In the digital version of the signal, on the other hand, the audio samples will only take integer values between -100 and +100 (i.e. we will use approximately 8 bits per audio sample). "
   ]
  },
  {
   "cell_type": "code",
   "execution_count": null,
   "metadata": {},
   "outputs": [],
   "source": [
    "# the analog signal is simply rescaled between -100 and +100\n",
    "# largest element in magnitude:\n",
    "norm = 1.0 / max(np.absolute([min(s), max(s)]))\n",
    "sA = 100.0 * s * norm\n",
    "\n",
    "# the digital version is clamped to the integers\n",
    "sD = np.round(sA)"
   ]
  },
  {
   "cell_type": "markdown",
   "metadata": {},
   "source": [
    "Rememeber that there is no free lunch and quantization implies a loss of quality; this initial loss (that we can minimize by using more bits per sample) is the price to pay for digital transmission. We can plot the error and compute the Signal to Noise Ratio (SNR) of the quantized signal"
   ]
  },
  {
   "cell_type": "code",
   "execution_count": null,
   "metadata": {},
   "outputs": [],
   "source": [
    "plt.plot(sA-sD);"
   ]
  },
  {
   "cell_type": "markdown",
   "metadata": {},
   "source": [
    "as expected, the error is between -0.5 and +0.5, since in the \"analog\" signal the values are real-valued, whereas in the \"digital\" version they can only take integer values. As for the SNR,"
   ]
  },
  {
   "cell_type": "code",
   "execution_count": null,
   "metadata": {},
   "outputs": [],
   "source": [
    "# we will be computing SNRs later as well, so let's define a function\n",
    "def SNR(noisy, original):\n",
    "    # power of the error\n",
    "    err = np.linalg.norm(original-noisy)\n",
    "    # power of the signal\n",
    "    sig = np.linalg.norm(original)\n",
    "    # SNR in dBs\n",
    "    return 10 * np.log10(sig/err)\n",
    "    \n",
    "    \n",
    "print ('SNR = %f dB' % SNR(sD, sA))"
   ]
  },
  {
   "cell_type": "markdown",
   "metadata": {},
   "source": [
    "Can we hear the 17dB difference? A bit..."
   ]
  },
  {
   "cell_type": "code",
   "execution_count": null,
   "metadata": {},
   "outputs": [],
   "source": [
    "IPython.display.Audio(sA, rate=rate)"
   ]
  },
  {
   "cell_type": "code",
   "execution_count": null,
   "metadata": {},
   "outputs": [],
   "source": [
    "IPython.display.Audio(sD, rate=rate)"
   ]
  },
  {
   "cell_type": "markdown",
   "metadata": {},
   "source": [
    "## Transmission ##\n",
    "\n",
    "Let's now define a function that represents the net effect of transmitting audio over a cable segment terminated by a repeater:\n",
    "* the signal is attenuated\n",
    "* the signal is accumulates additive noise as it propagates through the cable\n",
    "* the signal is amplified to the original amplitude by the repeater"
   ]
  },
  {
   "cell_type": "code",
   "execution_count": null,
   "metadata": {},
   "outputs": [],
   "source": [
    "def repeater(x, noise_amplitude, attenuation):\n",
    "    # first, create the noise\n",
    "    noise = np.random.uniform(-noise_amplitude, noise_amplitude, len(x))\n",
    "    # attenuation\n",
    "    x = x * attenuation\n",
    "    # noise\n",
    "    x = x + noise\n",
    "    # gain compensation\n",
    "    return x / attenuation"
   ]
  },
  {
   "cell_type": "markdown",
   "metadata": {},
   "source": [
    "we can use the repeater for both analog and digital signals. Transmission of the analog signal is simply a sequence of repeaters:"
   ]
  },
  {
   "cell_type": "code",
   "execution_count": null,
   "metadata": {},
   "outputs": [],
   "source": [
    "def analog_tx(x, num_repeaters, noise_amplitude, attenuation):\n",
    "    for n in range(0, num_repeaters):\n",
    "        x = repeater(x, noise_amplitude, attenuation)\n",
    "    return x"
   ]
  },
  {
   "cell_type": "markdown",
   "metadata": {},
   "source": [
    "For digital signals, however, we can rectify the signal after each repeater, because we know that values should only be integer-valued:"
   ]
  },
  {
   "cell_type": "code",
   "execution_count": null,
   "metadata": {},
   "outputs": [],
   "source": [
    "def digital_tx(x, num_repeaters, noise_amplitude, attenuation):\n",
    "    for n in range(0, num_repeaters):\n",
    "        x = np.round(repeater(x, noise_amplitude, attenuation))\n",
    "    return x"
   ]
  },
  {
   "cell_type": "markdown",
   "metadata": {},
   "source": [
    "Let's compare transmission schemes"
   ]
  },
  {
   "cell_type": "code",
   "execution_count": null,
   "metadata": {},
   "outputs": [],
   "source": [
    "NUM_REPEATERS = 70\n",
    "NOISE_AMPLITUDE = 0.2\n",
    "ATTENUATION = 0.5\n",
    "\n",
    "yA = analog_tx(sA, NUM_REPEATERS, NOISE_AMPLITUDE, ATTENUATION)\n",
    "print ('Analog trasmission: SNR = %f dB' % SNR(yA, sA))    \n",
    "\n",
    "yD = digital_tx(sD, NUM_REPEATERS, NOISE_AMPLITUDE, ATTENUATION)\n",
    "print ('Digital trasmission: SNR = %f dB' % SNR(yD, sA))    "
   ]
  },
  {
   "cell_type": "markdown",
   "metadata": {},
   "source": [
    "As you can see, the SNR after digital transmission has not changed! Now the difference between audio clips should be easy to hear:"
   ]
  },
  {
   "cell_type": "code",
   "execution_count": null,
   "metadata": {},
   "outputs": [],
   "source": [
    "IPython.display.Audio(yA, rate=rate)"
   ]
  },
  {
   "cell_type": "code",
   "execution_count": null,
   "metadata": {},
   "outputs": [],
   "source": [
    "IPython.display.Audio(yD, rate=rate)"
   ]
  },
  {
   "cell_type": "markdown",
   "metadata": {},
   "source": [
    "Note however that, if the noise amplitude exceeds a certain value, digital transmission degrades even less gracefully than analog transmission:"
   ]
  },
  {
   "cell_type": "code",
   "execution_count": null,
   "metadata": {},
   "outputs": [],
   "source": [
    "NOISE_AMPLITUDE = 0.3\n",
    "\n",
    "yA = analog_tx(sA, NUM_REPEATERS, NOISE_AMPLITUDE, ATTENUATION)\n",
    "print ('Analog trasmission: SNR = %f dB' % SNR(yA, sA))   \n",
    "\n",
    "yD = digital_tx(sD, NUM_REPEATERS, NOISE_AMPLITUDE, ATTENUATION)\n",
    "print ('Digital trasmission: SNR = %f dB' % SNR(yD, sA))   "
   ]
  }
 ],
 "metadata": {
  "kernelspec": {
   "display_name": "Python 3",
   "language": "python",
   "name": "python3"
  },
  "language_info": {
   "codemirror_mode": {
    "name": "ipython",
    "version": 3
   },
   "file_extension": ".py",
   "mimetype": "text/x-python",
   "name": "python",
   "nbconvert_exporter": "python",
   "pygments_lexer": "ipython3",
   "version": "3.6.4"
  }
 },
 "nbformat": 4,
 "nbformat_minor": 1
}
